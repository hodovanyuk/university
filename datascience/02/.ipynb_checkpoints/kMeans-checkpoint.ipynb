{
 "cells": [
  {
   "cell_type": "code",
   "execution_count": 335,
   "metadata": {
    "collapsed": false
   },
   "outputs": [],
   "source": [
    "import numpy as np\n",
    "%matplotlib inline\n",
    "import matplotlib.pyplot as plt\n",
    "from mpl_toolkits.mplot3d import Axes3D\n",
    "# print()"
   ]
  },
  {
   "cell_type": "code",
   "execution_count": 185,
   "metadata": {
    "collapsed": false
   },
   "outputs": [],
   "source": [
    "def makeDataFromFile( fileName,dimension,step ):\n",
    "# % Example of function work\n",
    "# % input := {1 2 3 4 5 6 7 8 9 10}\n",
    "# % dimension = 3\n",
    "# % step = 2\n",
    "# % output :={\n",
    "# % 1 3 5\n",
    "# % 2 4 6\n",
    "# % 3 5 7\n",
    "# % 4 6 8\n",
    "# % 5 7 9\n",
    "# % 6 8 10\n",
    "# % }\n",
    "    k=0.75\n",
    "    file = open(fileName, 'r')\n",
    "    X = file.readlines()\n",
    "    nX = len( X )\n",
    "    for i in range(0,nX):\n",
    "        X[i] = float(X[i])\n",
    "\n",
    "    nYColumns = dimension\n",
    "    nYRows = nX-step*(dimension-1)\n",
    "    Y = np.zeros( (nYRows,nYColumns ) )\n",
    "   \n",
    "    for i in range(0,dimension):    \n",
    "        idx1 = (i)*step;\n",
    "        idx2 = step+nX-(dimension-i)*step;\n",
    "        Y[:,i] = X[idx1:idx2];\n",
    "    file.close()\n",
    "    return Y"
   ]
  },
  {
   "cell_type": "code",
   "execution_count": 333,
   "metadata": {
    "collapsed": false
   },
   "outputs": [],
   "source": [
    "def kMeansMine( X,k ):\n",
    "    nX = len(X)\n",
    "    idx = np.random.permutation( nX )\n",
    "    cntr = X[idx[1:k],:]\n",
    "    \n",
    "    flag = True\n",
    "    iCenters = 0\n",
    "    \n",
    "    while(flag):\n",
    "        \n",
    "        iCenters = iCenters + 1\n",
    "\n",
    "        Centers = np.zeros( (nX,1) )\n",
    "        for i in range(0,nX):\n",
    "            \n",
    "            p = X[ i,: ]\n",
    "#             print('origin->',p)\n",
    "#             print('repeat->',np.repeat([p], 2,axis=0))\n",
    "#             print('cntr->',cntr)\n",
    "#             print('difference->',)\n",
    "            p = np.power((np.repeat([p], 2,axis=0)-cntr), 2)\n",
    "#             print('p->',p)\n",
    "#             print('sum->',)\n",
    "            d =   np.sum( p ,axis=1)\n",
    "#             print('d->',d)\n",
    "#             print(d,'_',nX)\n",
    "            idx = np.argmin( d )\n",
    "#             print('i->',idx)\n",
    "            Centers[ i ] = idx\n",
    "#             print(Centers)\n",
    "        cntr_new = cntr;\n",
    "#         print('Centers->',Centers)\n",
    "#         print('filt',np.where(Centers == 1)[0])\n",
    "        \n",
    "        for i in range(1,k):\n",
    "            idx = np.where(Centers == i)[0]\n",
    "            if len( idx ) != 0 :\n",
    "              cntr_new[ i,: ] = np.sum( X[ idx,: ] ) / len( idx )\n",
    "        \n",
    "        flag = np.max( np.max( np.abs( cntr_new - cntr ) ) );\n",
    "        cntr = cntr_new;\n",
    "\n",
    "        return  Centers\n",
    "            "
   ]
  },
  {
   "cell_type": "code",
   "execution_count": null,
   "metadata": {
    "collapsed": true
   },
   "outputs": [],
   "source": [
    "def plotClusters( X,C )\n",
    "\n",
    "    fig = plt.figure(1, figsize=(8, 8))\n",
    "    plt.clf()\n",
    "    ax = Axes3D(fig, rect=[0, 0, 1, 1], elev=8, azim=200)\n",
    "    plt.cla()\n",
    "\n",
    "    ax.scatter(X[:, 3], X[:, 0], X[:, 2], c=labels.astype(np.float))\n",
    "\n",
    "    ax.w_xaxis.set_ticklabels([])\n",
    "    ax.w_yaxis.set_ticklabels([])\n",
    "    ax.w_zaxis.set_ticklabels([])\n",
    "    ax.set_xlabel('Petal width')\n",
    "    ax.set_ylabel('Sepal length')\n",
    "    ax.set_zlabel('Petal length')\n",
    "\n",
    "    plt.show()"
   ]
  },
  {
   "cell_type": "code",
   "execution_count": 334,
   "metadata": {
    "collapsed": false
   },
   "outputs": [
    {
     "name": "stdout",
     "output_type": "stream",
     "text": [
      "1\n"
     ]
    }
   ],
   "source": [
    "# input data\n",
    "fileName = 'test.txt';\n",
    "X = makeDataFromFile(fileName,3,2);\n",
    "# actions with data\n",
    "nCluster = 3;\n",
    "clusters = kMeansMine(X,nCluster);\n",
    "# # output data\n",
    "# plotClusters(X,clusters);"
   ]
  },
  {
   "cell_type": "code",
   "execution_count": null,
   "metadata": {
    "collapsed": true
   },
   "outputs": [],
   "source": [
    "    N = len(X )\n",
    "    idx = np.random.permutation( N )\n",
    "    cntr = X[idx[1:k],:]\n",
    "\n",
    "    flag = True\n",
    "    iCenters = 0\n",
    "#   loop will itterate while not find clisters centers \n",
    "    while ( flag ) :\n",
    "\n",
    "        iCenters = iCenters + 1\n",
    "\n",
    "        Centers = np.zeros( (N,1) )\n",
    "        for i in range(1,N):\n",
    "            p = X[ i,: ]\n",
    "            p = (np.tile(p, [k,1]) - cntr)\n",
    "            d = sqrt( sum( np.transpose(p) ) )\n",
    "            idx= np.argmin( d )\n",
    "            Centers[ i ] = idx\n",
    "        \n",
    "\n",
    "        cntr_new = cntr\n",
    "        for i in range(1,k):\n",
    "            idx = find( C == i )\n",
    "            if (idx != 0) :\n",
    "              cntr_new[ i,: ] = np.sum( X[idx,:] ) / len( idx )\n",
    "            \n",
    "        \n",
    "\n",
    "        flag = max( max( abs( cntr_new - cntr ) ) )\n",
    "        cntr = cntr_new\n",
    "    return C"
   ]
  },
  {
   "cell_type": "code",
   "execution_count": null,
   "metadata": {
    "collapsed": true
   },
   "outputs": [],
   "source": []
  }
 ],
 "metadata": {
  "anaconda-cloud": {},
  "kernelspec": {
   "display_name": "Python [Root]",
   "language": "python",
   "name": "Python [Root]"
  },
  "language_info": {
   "codemirror_mode": {
    "name": "ipython",
    "version": 3
   },
   "file_extension": ".py",
   "mimetype": "text/x-python",
   "name": "python",
   "nbconvert_exporter": "python",
   "pygments_lexer": "ipython3",
   "version": "3.5.2"
  }
 },
 "nbformat": 4,
 "nbformat_minor": 0
}
